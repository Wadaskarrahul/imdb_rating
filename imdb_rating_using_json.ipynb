{
 "cells": [
  {
   "cell_type": "code",
   "execution_count": 1,
   "id": "2aa21198-9dbd-48ec-8d02-d8eb75c206d3",
   "metadata": {},
   "outputs": [],
   "source": [
    "import requests\n",
    "import json\n",
    "import pandas as pd\n",
    "from bs4 import BeautifulSoup"
   ]
  },
  {
   "cell_type": "code",
   "execution_count": 3,
   "id": "7912c62f-a2d4-4fcc-837c-0ec29aedb044",
   "metadata": {},
   "outputs": [],
   "source": [
    "URL = \"https://www.imdb.com/chart/top/\""
   ]
  },
  {
   "cell_type": "code",
   "execution_count": 5,
   "id": "04a9e8d0-3bc2-4e5c-8aa2-62a9d0c3ae61",
   "metadata": {},
   "outputs": [],
   "source": [
    "# Headers to mimic a real browser\n",
    "HEADERS = {\n",
    "    \"User-Agent\": \"Mozilla/5.0 (Windows NT 10.0; Win64; x64) AppleWebKit/537.36 (KHTML, like Gecko) Chrome/110.0.0.0 Safari/537.36\"\n",
    "}"
   ]
  },
  {
   "cell_type": "code",
   "execution_count": 7,
   "id": "08fbf1ca-9966-492a-ac19-d6e586f2722c",
   "metadata": {},
   "outputs": [],
   "source": [
    "# Fetch the page content\n",
    "response = requests.get(URL, headers=HEADERS)"
   ]
  },
  {
   "cell_type": "code",
   "execution_count": 9,
   "id": "266b4217-70ba-4c58-a0cd-e90399850da4",
   "metadata": {},
   "outputs": [
    {
     "name": "stdout",
     "output_type": "stream",
     "text": [
      "Scraping successful! IMDb Top movies saved to 'imdb_top_movies.csv'.\n"
     ]
    }
   ],
   "source": [
    "if response.status_code == 200:\n",
    "    soup = BeautifulSoup(response.text, \"html.parser\")\n",
    "\n",
    "    # Extract JSON-LD data from IMDb\n",
    "    json_data = None\n",
    "    for script in soup.find_all(\"script\", type=\"application/ld+json\"):\n",
    "        if '\"@type\":\"ItemList\"' in script.text:  # Look for ItemList JSON\n",
    "            json_data = json.loads(script.string)\n",
    "            break  # Stop after finding the correct JSON\n",
    "\n",
    "    if json_data:\n",
    "        movies = json_data[\"itemListElement\"][:10]  # List of movies\n",
    "\n",
    "        movie_list = []\n",
    "        for movie in movies:\n",
    "            item = movie[\"item\"]  # Get the movie details\n",
    "            \n",
    "            # Extract relevant data\n",
    "            title = item.get(\"name\", \"N/A\")\n",
    "            url = item.get(\"url\", \"N/A\")\n",
    "            rating = item.get(\"aggregateRating\", {}).get(\"ratingValue\", \"N/A\")\n",
    "            year = item.get(\"datePublished\", \"N/A\")  # Some movies may not have this\n",
    "            genre = item.get(\"genre\", \"N/A\")\n",
    "            duration = item.get(\"duration\", \"N/A\")\n",
    "            \n",
    "            # Store movie details in a list\n",
    "            movie_list.append({\n",
    "                \"Title\": title,\n",
    "                \"Year\": year,\n",
    "                \"Rating\": rating,\n",
    "                \"Genre\": genre,\n",
    "                \"Duration\": duration,\n",
    "                \"URL\": url\n",
    "            })\n",
    "\n",
    "        #rint(movie_list)\n",
    "        # Convert list to DataFrame\n",
    "        df = pd.DataFrame(movie_list)\n",
    "\n",
    "        # Save to CSV\n",
    "        df.to_csv(\"imdb_top_movies.csv\", index=False)\n",
    "\n",
    "        print(\"Scraping successful! IMDb Top movies saved to 'imdb_top_movies.csv'.\")\n",
    "    else:\n",
    "        print(\"JSON data not found on IMDb page. Check the page structure.\")\n",
    "else:\n",
    "    print(f\" Failed to fetch IMDb data. Status code: {response.status_code}\")"
   ]
  },
  {
   "cell_type": "code",
   "execution_count": null,
   "id": "61a8fd3f-dc36-421f-8208-a85a3d2809eb",
   "metadata": {},
   "outputs": [],
   "source": []
  }
 ],
 "metadata": {
  "kernelspec": {
   "display_name": "Python [conda env:base] *",
   "language": "python",
   "name": "conda-base-py"
  },
  "language_info": {
   "codemirror_mode": {
    "name": "ipython",
    "version": 3
   },
   "file_extension": ".py",
   "mimetype": "text/x-python",
   "name": "python",
   "nbconvert_exporter": "python",
   "pygments_lexer": "ipython3",
   "version": "3.12.7"
  }
 },
 "nbformat": 4,
 "nbformat_minor": 5
}
